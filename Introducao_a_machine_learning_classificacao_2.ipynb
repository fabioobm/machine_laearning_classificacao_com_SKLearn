{
  "nbformat": 4,
  "nbformat_minor": 0,
  "metadata": {
    "colab": {
      "provenance": [],
      "authorship_tag": "ABX9TyNSXmzLBZ8eQM4y9ZNQljrJ",
      "include_colab_link": true
    },
    "kernelspec": {
      "name": "python3",
      "display_name": "Python 3"
    },
    "language_info": {
      "name": "python"
    }
  },
  "cells": [
    {
      "cell_type": "markdown",
      "metadata": {
        "id": "view-in-github",
        "colab_type": "text"
      },
      "source": [
        "<a href=\"https://colab.research.google.com/github/fabioobm/machine_laearning_classificacao_com_SKLearn/blob/main/Introducao_a_machine_learning_classificacao_2.ipynb\" target=\"_parent\"><img src=\"https://colab.research.google.com/assets/colab-badge.svg\" alt=\"Open In Colab\"/></a>"
      ]
    },
    {
      "cell_type": "code",
      "execution_count": 1,
      "metadata": {
        "id": "UjeSzQemS_ZT"
      },
      "outputs": [],
      "source": [
        "aa = []"
      ]
    },
    {
      "cell_type": "code",
      "source": [],
      "metadata": {
        "id": "JPX153z5TAjC"
      },
      "execution_count": null,
      "outputs": []
    }
  ]
}